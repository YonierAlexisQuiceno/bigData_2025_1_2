{
 "cells": [
  {
   "cell_type": "markdown",
   "metadata": {
    "application/vnd.databricks.v1+cell": {
     "cellMetadata": {},
     "inputWidgets": {},
     "nuid": "cc40c1d5-1e76-4699-93a0-8059a72489ca",
     "showTitle": false,
     "tableResultSettingsMap": {},
     "title": ""
    }
   },
   "source": [
    "# Despliegue de infraestructura virtual para análisis de datos climáticos de Medellín (2019-2024)\n",
    "\n",
    "Este notebook documenta el proceso de configuración, carga, análisis y visualización del dataset histórico de clima de Medellín para la empresa ClimaSmart, usando Databricks Community Edition.\n"
   ]
  },
  {
   "cell_type": "code",
   "execution_count": 0,
   "metadata": {
    "application/vnd.databricks.v1+cell": {
     "cellMetadata": {
      "byteLimit": 2048000,
      "rowLimit": 10000
     },
     "inputWidgets": {},
     "nuid": "d93de0c0-ac4e-493a-9339-df0bb231c950",
     "showTitle": false,
     "tableResultSettingsMap": {},
     "title": ""
    }
   },
   "outputs": [
    {
     "output_type": "stream",
     "name": "stdout",
     "output_type": "stream",
     "text": [
      "Requirement already satisfied: pip in /local_disk0/.ephemeral_nfs/envs/pythonEnv-7fa8fec2-f3c4-42cf-87fa-0a30e20f018d/lib/python3.9/site-packages (21.2.4)\r\nCollecting pip\r\n  Downloading pip-25.1.1-py3-none-any.whl (1.8 MB)\r\n\u001B[?25l\r\u001B[K     |▏                               | 10 kB 19.5 MB/s eta 0:00:01\r\u001B[K     |▍                               | 20 kB 6.5 MB/s eta 0:00:01\r\u001B[K     |▌                               | 30 kB 9.5 MB/s eta 0:00:01\r\u001B[K     |▊                               | 40 kB 5.3 MB/s eta 0:00:01\r\u001B[K     |█                               | 51 kB 4.9 MB/s eta 0:00:01\r\u001B[K     |█                               | 61 kB 5.8 MB/s eta 0:00:01\r\u001B[K     |█▎                              | 71 kB 6.2 MB/s eta 0:00:01\r\u001B[K     |█▍                              | 81 kB 4.8 MB/s eta 0:00:01\r\u001B[K     |█▋                              | 92 kB 5.3 MB/s eta 0:00:01\r\u001B[K     |█▉                              | 102 kB 5.5 MB/s eta 0:00:01\r\u001B[K     |██                              | 112 kB 5.5 MB/s eta 0:00:01\r\u001B[K     |██▏                             | 122 kB 5.5 MB/s eta 0:00:01\r\u001B[K     |██▍                             | 133 kB 5.5 MB/s eta 0:00:01\r\u001B[K     |██▌                             | 143 kB 5.5 MB/s eta 0:00:01\r\u001B[K     |██▊                             | 153 kB 5.5 MB/s eta 0:00:01\r\u001B[K     |██▉                             | 163 kB 5.5 MB/s eta 0:00:01\r\u001B[K     |███                             | 174 kB 5.5 MB/s eta 0:00:01\r\u001B[K     |███▎                            | 184 kB 5.5 MB/s eta 0:00:01\r\u001B[K     |███▍                            | 194 kB 5.5 MB/s eta 0:00:01\r\u001B[K     |███▋                            | 204 kB 5.5 MB/s eta 0:00:01\r\u001B[K     |███▊                            | 215 kB 5.5 MB/s eta 0:00:01\r\u001B[K     |████                            | 225 kB 5.5 MB/s eta 0:00:01\r\u001B[K     |████▏                           | 235 kB 5.5 MB/s eta 0:00:01\r\u001B[K     |████▎                           | 245 kB 5.5 MB/s eta 0:00:01\r\u001B[K     |████▌                           | 256 kB 5.5 MB/s eta 0:00:01\r\u001B[K     |████▊                           | 266 kB 5.5 MB/s eta 0:00:01\r\u001B[K     |████▉                           | 276 kB 5.5 MB/s eta 0:00:01\r\u001B[K     |█████                           | 286 kB 5.5 MB/s eta 0:00:01\r\u001B[K     |█████▏                          | 296 kB 5.5 MB/s eta 0:00:01\r\u001B[K     |█████▍                          | 307 kB 5.5 MB/s eta 0:00:01\r\u001B[K     |█████▋                          | 317 kB 5.5 MB/s eta 0:00:01\r\u001B[K     |█████▊                          | 327 kB 5.5 MB/s eta 0:00:01\r\u001B[K     |██████                          | 337 kB 5.5 MB/s eta 0:00:01\r\u001B[K     |██████                          | 348 kB 5.5 MB/s eta 0:00:01\r\u001B[K     |██████▎                         | 358 kB 5.5 MB/s eta 0:00:01\r\u001B[K     |██████▌                         | 368 kB 5.5 MB/s eta 0:00:01\r\u001B[K     |██████▋                         | 378 kB 5.5 MB/s eta 0:00:01\r\u001B[K     |██████▉                         | 389 kB 5.5 MB/s eta 0:00:01\r\u001B[K     |███████                         | 399 kB 5.5 MB/s eta 0:00:01\r\u001B[K     |███████▏                        | 409 kB 5.5 MB/s eta 0:00:01\r\u001B[K     |███████▍                        | 419 kB 5.5 MB/s eta 0:00:01\r\u001B[K     |███████▌                        | 430 kB 5.5 MB/s eta 0:00:01\r\u001B[K     |███████▊                        | 440 kB 5.5 MB/s eta 0:00:01\r\u001B[K     |████████                        | 450 kB 5.5 MB/s eta 0:00:01\r\u001B[K     |████████                        | 460 kB 5.5 MB/s eta 0:00:01\r\u001B[K     |████████▎                       | 471 kB 5.5 MB/s eta 0:00:01\r\u001B[K     |████████▍                       | 481 kB 5.5 MB/s eta 0:00:01\r\u001B[K     |████████▋                       | 491 kB 5.5 MB/s eta 0:00:01\r\u001B[K     |████████▉                       | 501 kB 5.5 MB/s eta 0:00:01\r\u001B[K     |█████████                       | 512 kB 5.5 MB/s eta 0:00:01\r\u001B[K     |█████████▏                      | 522 kB 5.5 MB/s eta 0:00:01\r\u001B[K     |█████████▍                      | 532 kB 5.5 MB/s eta 0:00:01\r\u001B[K     |█████████▌                      | 542 kB 5.5 MB/s eta 0:00:01\r\u001B[K     |█████████▊                      | 552 kB 5.5 MB/s eta 0:00:01\r\u001B[K     |█████████▉                      | 563 kB 5.5 MB/s eta 0:00:01\r\u001B[K     |██████████                      | 573 kB 5.5 MB/s eta 0:00:01\r\u001B[K     |██████████▎                     | 583 kB 5.5 MB/s eta 0:00:01\r\u001B[K     |██████████▍                     | 593 kB 5.5 MB/s eta 0:00:01\r\u001B[K     |██████████▋                     | 604 kB 5.5 MB/s eta 0:00:01\r\u001B[K     |██████████▊                     | 614 kB 5.5 MB/s eta 0:00:01\r\u001B[K     |███████████                     | 624 kB 5.5 MB/s eta 0:00:01\r\u001B[K     |███████████▏                    | 634 kB 5.5 MB/s eta 0:00:01\r\u001B[K     |███████████▎                    | 645 kB 5.5 MB/s eta 0:00:01\r\u001B[K     |███████████▌                    | 655 kB 5.5 MB/s eta 0:00:01\r\u001B[K     |███████████▊                    | 665 kB 5.5 MB/s eta 0:00:01\r\u001B[K     |███████████▉                    | 675 kB 5.5 MB/s eta 0:00:01\r\u001B[K     |████████████                    | 686 kB 5.5 MB/s eta 0:00:01\r\u001B[K     |████████████▏                   | 696 kB 5.5 MB/s eta 0:00:01\r\u001B[K     |████████████▍                   | 706 kB 5.5 MB/s eta 0:00:01\r\u001B[K     |████████████▋                   | 716 kB 5.5 MB/s eta 0:00:01\r\u001B[K     |████████████▊                   | 727 kB 5.5 MB/s eta 0:00:01\r\u001B[K     |█████████████                   | 737 kB 5.5 MB/s eta 0:00:01\r\u001B[K     |█████████████                   | 747 kB 5.5 MB/s eta 0:00:01\r\u001B[K     |█████████████▎                  | 757 kB 5.5 MB/s eta 0:00:01\r\u001B[K     |█████████████▌                  | 768 kB 5.5 MB/s eta 0:00:01\r\u001B[K     |█████████████▋                  | 778 kB 5.5 MB/s eta 0:00:01\r\u001B[K     |█████████████▉                  | 788 kB 5.5 MB/s eta 0:00:01\r\u001B[K     |██████████████                  | 798 kB 5.5 MB/s eta 0:00:01\r\u001B[K     |██████████████▏                 | 808 kB 5.5 MB/s eta 0:00:01\r\u001B[K     |██████████████▍                 | 819 kB 5.5 MB/s eta 0:00:01\r\u001B[K     |██████████████▌                 | 829 kB 5.5 MB/s eta 0:00:01\r\u001B[K     |██████████████▊                 | 839 kB 5.5 MB/s eta 0:00:01\r\u001B[K     |███████████████                 | 849 kB 5.5 MB/s eta 0:00:01\r\u001B[K     |███████████████                 | 860 kB 5.5 MB/s eta 0:00:01\r\u001B[K     |███████████████▎                | 870 kB 5.5 MB/s eta 0:00:01\r\u001B[K     |███████████████▍                | 880 kB 5.5 MB/s eta 0:00:01\r\u001B[K     |███████████████▋                | 890 kB 5.5 MB/s eta 0:00:01\r\u001B[K     |███████████████▉                | 901 kB 5.5 MB/s eta 0:00:01\r\u001B[K     |████████████████                | 911 kB 5.5 MB/s eta 0:00:01\r\u001B[K     |████████████████▏               | 921 kB 5.5 MB/s eta 0:00:01\r\u001B[K     |████████████████▍               | 931 kB 5.5 MB/s eta 0:00:01\r\u001B[K     |████████████████▌               | 942 kB 5.5 MB/s eta 0:00:01\r\u001B[K     |████████████████▊               | 952 kB 5.5 MB/s eta 0:00:01\r\u001B[K     |████████████████▉               | 962 kB 5.5 MB/s eta 0:00:01\r\u001B[K     |█████████████████               | 972 kB 5.5 MB/s eta 0:00:01\r\u001B[K     |█████████████████▎              | 983 kB 5.5 MB/s eta 0:00:01\r\u001B[K     |█████████████████▍              | 993 kB 5.5 MB/s eta 0:00:01\r\u001B[K     |█████████████████▋              | 1.0 MB 5.5 MB/s eta 0:00:01\r\u001B[K     |█████████████████▊              | 1.0 MB 5.5 MB/s eta 0:00:01\r\u001B[K     |██████████████████              | 1.0 MB 5.5 MB/s eta 0:00:01\r\u001B[K     |██████████████████▏             | 1.0 MB 5.5 MB/s eta 0:00:01\r\u001B[K     |██████████████████▎             | 1.0 MB 5.5 MB/s eta 0:00:01\r\u001B[K     |██████████████████▌             | 1.1 MB 5.5 MB/s eta 0:00:01\r\u001B[K     |██████████████████▊             | 1.1 MB 5.5 MB/s eta 0:00:01\r\u001B[K     |██████████████████▉             | 1.1 MB 5.5 MB/s eta 0:00:01\r\u001B[K     |███████████████████             | 1.1 MB 5.5 MB/s eta 0:00:01\r\u001B[K     |███████████████████▏            | 1.1 MB 5.5 MB/s eta 0:00:01\r\u001B[K     |███████████████████▍            | 1.1 MB 5.5 MB/s eta 0:00:01\r\u001B[K     |███████████████████▋            | 1.1 MB 5.5 MB/s eta 0:00:01\r\u001B[K     |███████████████████▊            | 1.1 MB 5.5 MB/s eta 0:00:01\r\u001B[K     |████████████████████            | 1.1 MB 5.5 MB/s eta 0:00:01\r\u001B[K     |████████████████████            | 1.1 MB 5.5 MB/s eta 0:00:01\r\u001B[K     |████████████████████▎           | 1.2 MB 5.5 MB/s eta 0:00:01\r\u001B[K     |████████████████████▌           | 1.2 MB 5.5 MB/s eta 0:00:01\r\u001B[K     |████████████████████▋           | 1.2 MB 5.5 MB/s eta 0:00:01\r\u001B[K     |████████████████████▉           | 1.2 MB 5.5 MB/s eta 0:00:01\r\u001B[K     |█████████████████████           | 1.2 MB 5.5 MB/s eta 0:00:01\r\u001B[K     |█████████████████████▏          | 1.2 MB 5.5 MB/s eta 0:00:01\r\u001B[K     |█████████████████████▍          | 1.2 MB 5.5 MB/s eta 0:00:01\r\u001B[K     |█████████████████████▌          | 1.2 MB 5.5 MB/s eta 0:00:01\r\u001B[K     |█████████████████████▊          | 1.2 MB 5.5 MB/s eta 0:00:01\r\u001B[K     |██████████████████████          | 1.2 MB 5.5 MB/s eta 0:00:01\r\u001B[K     |██████████████████████          | 1.3 MB 5.5 MB/s eta 0:00:01\r\u001B[K     |██████████████████████▎         | 1.3 MB 5.5 MB/s eta 0:00:01\r\u001B[K     |██████████████████████▍         | 1.3 MB 5.5 MB/s eta 0:00:01\r\u001B[K     |██████████████████████▋         | 1.3 MB 5.5 MB/s eta 0:00:01\r\u001B[K     |██████████████████████▉         | 1.3 MB 5.5 MB/s eta 0:00:01\r\u001B[K     |███████████████████████         | 1.3 MB 5.5 MB/s eta 0:00:01\r\u001B[K     |███████████████████████▏        | 1.3 MB 5.5 MB/s eta 0:00:01\r\u001B[K     |███████████████████████▍        | 1.3 MB 5.5 MB/s eta 0:00:01\r\u001B[K     |███████████████████████▌        | 1.3 MB 5.5 MB/s eta 0:00:01\r\u001B[K     |███████████████████████▊        | 1.4 MB 5.5 MB/s eta 0:00:01\r\u001B[K     |███████████████████████▉        | 1.4 MB 5.5 MB/s eta 0:00:01\r\u001B[K     |████████████████████████        | 1.4 MB 5.5 MB/s eta 0:00:01\r\u001B[K     |████████████████████████▎       | 1.4 MB 5.5 MB/s eta 0:00:01\r\u001B[K     |████████████████████████▍       | 1.4 MB 5.5 MB/s eta 0:00:01\r\u001B[K     |████████████████████████▋       | 1.4 MB 5.5 MB/s eta 0:00:01\r\u001B[K     |████████████████████████▊       | 1.4 MB 5.5 MB/s eta 0:00:01\r\u001B[K     |█████████████████████████       | 1.4 MB 5.5 MB/s eta 0:00:01\r\u001B[K     |█████████████████████████▏      | 1.4 MB 5.5 MB/s eta 0:00:01\r\u001B[K     |█████████████████████████▎      | 1.4 MB 5.5 MB/s eta 0:00:01\r\u001B[K     |█████████████████████████▌      | 1.5 MB 5.5 MB/s eta 0:00:01\r\u001B[K     |█████████████████████████▊      | 1.5 MB 5.5 MB/s eta 0:00:01\r\u001B[K     |█████████████████████████▉      | 1.5 MB 5.5 MB/s eta 0:00:01\r\u001B[K     |██████████████████████████      | 1.5 MB 5.5 MB/s eta 0:00:01\r\u001B[K     |██████████████████████████▏     | 1.5 MB 5.5 MB/s eta 0:00:01\r\u001B[K     |██████████████████████████▍     | 1.5 MB 5.5 MB/s eta 0:00:01\r\u001B[K     |██████████████████████████▋     | 1.5 MB 5.5 MB/s eta 0:00:01\r\u001B[K     |██████████████████████████▊     | 1.5 MB 5.5 MB/s eta 0:00:01\r\u001B[K     |███████████████████████████     | 1.5 MB 5.5 MB/s eta 0:00:01\r\u001B[K     |███████████████████████████     | 1.5 MB 5.5 MB/s eta 0:00:01\r\u001B[K     |███████████████████████████▎    | 1.6 MB 5.5 MB/s eta 0:00:01\r\u001B[K     |███████████████████████████▌    | 1.6 MB 5.5 MB/s eta 0:00:01\r\u001B[K     |███████████████████████████▋    | 1.6 MB 5.5 MB/s eta 0:00:01\r\u001B[K     |███████████████████████████▉    | 1.6 MB 5.5 MB/s eta 0:00:01\r\u001B[K     |████████████████████████████    | 1.6 MB 5.5 MB/s eta 0:00:01\r\u001B[K     |████████████████████████████▏   | 1.6 MB 5.5 MB/s eta 0:00:01\r\u001B[K     |████████████████████████████▍   | 1.6 MB 5.5 MB/s eta 0:00:01\r\u001B[K     |████████████████████████████▌   | 1.6 MB 5.5 MB/s eta 0:00:01\r\u001B[K     |████████████████████████████▊   | 1.6 MB 5.5 MB/s eta 0:00:01\r\u001B[K     |█████████████████████████████   | 1.6 MB 5.5 MB/s eta 0:00:01\r\u001B[K     |█████████████████████████████   | 1.7 MB 5.5 MB/s eta 0:00:01\r\u001B[K     |█████████████████████████████▎  | 1.7 MB 5.5 MB/s eta 0:00:01\r\u001B[K     |█████████████████████████████▍  | 1.7 MB 5.5 MB/s eta 0:00:01\r\u001B[K     |█████████████████████████████▋  | 1.7 MB 5.5 MB/s eta 0:00:01\r\u001B[K     |█████████████████████████████▉  | 1.7 MB 5.5 MB/s eta 0:00:01\r\u001B[K     |██████████████████████████████  | 1.7 MB 5.5 MB/s eta 0:00:01\r\u001B[K     |██████████████████████████████▏ | 1.7 MB 5.5 MB/s eta 0:00:01\r\u001B[K     |██████████████████████████████▍ | 1.7 MB 5.5 MB/s eta 0:00:01\r\u001B[K     |██████████████████████████████▌ | 1.7 MB 5.5 MB/s eta 0:00:01\r\u001B[K     |██████████████████████████████▊ | 1.8 MB 5.5 MB/s eta 0:00:01\r\u001B[K     |██████████████████████████████▉ | 1.8 MB 5.5 MB/s eta 0:00:01\r\u001B[K     |███████████████████████████████ | 1.8 MB 5.5 MB/s eta 0:00:01\r\u001B[K     |███████████████████████████████▎| 1.8 MB 5.5 MB/s eta 0:00:01\r\u001B[K     |███████████████████████████████▍| 1.8 MB 5.5 MB/s eta 0:00:01\r\u001B[K     |███████████████████████████████▋| 1.8 MB 5.5 MB/s eta 0:00:01\r\u001B[K     |███████████████████████████████▊| 1.8 MB 5.5 MB/s eta 0:00:01\r\u001B[K     |████████████████████████████████| 1.8 MB 5.5 MB/s eta 0:00:01\r\u001B[K     |████████████████████████████████| 1.8 MB 5.5 MB/s \r\n\u001B[?25hInstalling collected packages: pip\r\n  Attempting uninstall: pip\r\n    Found existing installation: pip 21.2.4\r\n    Uninstalling pip-21.2.4:\r\n      Successfully uninstalled pip-21.2.4\r\nSuccessfully installed pip-25.1.1\r\nRequirement already satisfied: pandas in /databricks/python3/lib/python3.9/site-packages (1.4.2)\r\nRequirement already satisfied: python-dateutil>=2.8.1 in /databricks/python3/lib/python3.9/site-packages (from pandas) (2.8.2)\r\nRequirement already satisfied: pytz>=2020.1 in /databricks/python3/lib/python3.9/site-packages (from pandas) (2021.3)\r\nRequirement already satisfied: numpy>=1.18.5 in /databricks/python3/lib/python3.9/site-packages (from pandas) (1.21.5)\r\nRequirement already satisfied: six>=1.5 in /databricks/python3/lib/python3.9/site-packages (from python-dateutil>=2.8.1->pandas) (1.16.0)\r\n"
     ]
    }
   ],
   "source": [
    "# Instalación de KaggleHub y pandas si no están disponibles\n",
    "# En Databricks, puedes necesitar ejecutarlas sólo una vez\n",
    "!pip install --upgrade pip\n",
    "!pip install kagglehub[pandas-datasets]>=0.3.8\n",
    "!pip install pandas\n",
    "\n"
   ]
  },
  {
   "cell_type": "markdown",
   "metadata": {
    "application/vnd.databricks.v1+cell": {
     "cellMetadata": {},
     "inputWidgets": {},
     "nuid": "d47db593-8bc6-4d27-97fd-32ae7618049d",
     "showTitle": false,
     "tableResultSettingsMap": {},
     "title": ""
    }
   },
   "source": [
    "## Descarga del dataset desde Kaggle usando KaggleHub\n"
   ]
  },
  {
   "cell_type": "code",
   "execution_count": 0,
   "metadata": {
    "application/vnd.databricks.v1+cell": {
     "cellMetadata": {
      "byteLimit": 2048000,
      "rowLimit": 10000
     },
     "inputWidgets": {},
     "nuid": "51ed90bc-db1b-4a5d-84d0-a2cef82bb9f0",
     "showTitle": false,
     "tableResultSettingsMap": {},
     "title": ""
    }
   },
   "outputs": [
    {
     "output_type": "display_data",
     "data": {
      "application/vnd.databricks.v1+bamboolib_hint": "{\"pd.DataFrames\": [], \"version\": \"0.0.1\"}",
      "text/plain": []
     },
     "metadata": {},
     "output_type": "display_data"
    },
    {
     "output_type": "stream",
     "name": "stdout",
     "output_type": "stream",
     "text": [
      "Descargando dataset desde Kaggle...\nDownloading from https://www.kaggle.com/api/v1/datasets/download/jaiderlopez/historical-weather-medelln?dataset_version_number=1...\n"
     ]
    },
    {
     "output_type": "stream",
     "name": "stderr",
     "output_type": "stream",
     "text": [
      "\r  0%|          | 0.00/17.0k [00:00<?, ?B/s]\r100%|██████████| 17.0k/17.0k [00:00<00:00, 8.57MB/s]"
     ]
    },
    {
     "output_type": "stream",
     "name": "stdout",
     "output_type": "stream",
     "text": [
      "Extracting files...\nRuta al dataset: /root/.cache/kagglehub/datasets/jaiderlopez/historical-weather-medelln/versions/1\nNo se encontró archivo ZIP pero se detectaron archivos CSV; se asume que el dataset ya se encuentra extraído.\nLeyendo /root/.cache/kagglehub/datasets/jaiderlopez/historical-weather-medelln/versions/1/historical-weather-medellin.csv...\nCSV creado correctamente.\n"
     ]
    },
    {
     "output_type": "stream",
     "name": "stderr",
     "output_type": "stream",
     "text": [
      "\n"
     ]
    },
    {
     "output_type": "display_data",
     "data": {
      "text/html": [
       "<div>\n",
       "<style scoped>\n",
       "    .dataframe tbody tr th:only-of-type {\n",
       "        vertical-align: middle;\n",
       "    }\n",
       "\n",
       "    .dataframe tbody tr th {\n",
       "        vertical-align: top;\n",
       "    }\n",
       "\n",
       "    .dataframe thead th {\n",
       "        text-align: right;\n",
       "    }\n",
       "</style>\n",
       "<table border=\"1\" class=\"dataframe\">\n",
       "  <thead>\n",
       "    <tr style=\"text-align: right;\">\n",
       "      <th></th>\n",
       "      <th>Date (yyyy-mm-dd)</th>\n",
       "      <th>Max_temperature (Â°C)</th>\n",
       "      <th>Min_temperature (Â°C)</th>\n",
       "      <th>Rain (mm)</th>\n",
       "      <th>Wind (km/h)</th>\n",
       "      <th>Description</th>\n",
       "      <th>City</th>\n",
       "    </tr>\n",
       "  </thead>\n",
       "  <tbody>\n",
       "    <tr>\n",
       "      <th>0</th>\n",
       "      <td>2024-01-01</td>\n",
       "      <td>25</td>\n",
       "      <td>10</td>\n",
       "      <td>1.3</td>\n",
       "      <td>5</td>\n",
       "      <td>Lluvia moderada a intervalos</td>\n",
       "      <td>MedellÃ­n</td>\n",
       "    </tr>\n",
       "    <tr>\n",
       "      <th>1</th>\n",
       "      <td>2023-01-01</td>\n",
       "      <td>18</td>\n",
       "      <td>8</td>\n",
       "      <td>3.0</td>\n",
       "      <td>3</td>\n",
       "      <td>Ligeras precipitaciones</td>\n",
       "      <td>MedellÃ­n</td>\n",
       "    </tr>\n",
       "    <tr>\n",
       "      <th>2</th>\n",
       "      <td>2022-01-01</td>\n",
       "      <td>18</td>\n",
       "      <td>10</td>\n",
       "      <td>4.0</td>\n",
       "      <td>2</td>\n",
       "      <td>Ligeras precipitaciones</td>\n",
       "      <td>MedellÃ­n</td>\n",
       "    </tr>\n",
       "    <tr>\n",
       "      <th>3</th>\n",
       "      <td>2021-01-01</td>\n",
       "      <td>21</td>\n",
       "      <td>11</td>\n",
       "      <td>12.5</td>\n",
       "      <td>4</td>\n",
       "      <td>Lluvias fuertes o moderadas</td>\n",
       "      <td>MedellÃ­n</td>\n",
       "    </tr>\n",
       "    <tr>\n",
       "      <th>4</th>\n",
       "      <td>2020-01-01</td>\n",
       "      <td>18</td>\n",
       "      <td>11</td>\n",
       "      <td>27.8</td>\n",
       "      <td>3</td>\n",
       "      <td>Lluvias fuertes o moderadas</td>\n",
       "      <td>MedellÃ­n</td>\n",
       "    </tr>\n",
       "  </tbody>\n",
       "</table>\n",
       "</div>"
      ]
     },
     "metadata": {
      "application/vnd.databricks.v1+output": {
       "addedWidgets": {},
       "arguments": {},
       "data": "<div>\n<style scoped>\n    .dataframe tbody tr th:only-of-type {\n        vertical-align: middle;\n    }\n\n    .dataframe tbody tr th {\n        vertical-align: top;\n    }\n\n    .dataframe thead th {\n        text-align: right;\n    }\n</style>\n<table border=\"1\" class=\"dataframe\">\n  <thead>\n    <tr style=\"text-align: right;\">\n      <th></th>\n      <th>Date (yyyy-mm-dd)</th>\n      <th>Max_temperature (Â°C)</th>\n      <th>Min_temperature (Â°C)</th>\n      <th>Rain (mm)</th>\n      <th>Wind (km/h)</th>\n      <th>Description</th>\n      <th>City</th>\n    </tr>\n  </thead>\n  <tbody>\n    <tr>\n      <th>0</th>\n      <td>2024-01-01</td>\n      <td>25</td>\n      <td>10</td>\n      <td>1.3</td>\n      <td>5</td>\n      <td>Lluvia moderada a intervalos</td>\n      <td>MedellÃ­n</td>\n    </tr>\n    <tr>\n      <th>1</th>\n      <td>2023-01-01</td>\n      <td>18</td>\n      <td>8</td>\n      <td>3.0</td>\n      <td>3</td>\n      <td>Ligeras precipitaciones</td>\n      <td>MedellÃ­n</td>\n    </tr>\n    <tr>\n      <th>2</th>\n      <td>2022-01-01</td>\n      <td>18</td>\n      <td>10</td>\n      <td>4.0</td>\n      <td>2</td>\n      <td>Ligeras precipitaciones</td>\n      <td>MedellÃ­n</td>\n    </tr>\n    <tr>\n      <th>3</th>\n      <td>2021-01-01</td>\n      <td>21</td>\n      <td>11</td>\n      <td>12.5</td>\n      <td>4</td>\n      <td>Lluvias fuertes o moderadas</td>\n      <td>MedellÃ­n</td>\n    </tr>\n    <tr>\n      <th>4</th>\n      <td>2020-01-01</td>\n      <td>18</td>\n      <td>11</td>\n      <td>27.8</td>\n      <td>3</td>\n      <td>Lluvias fuertes o moderadas</td>\n      <td>MedellÃ­n</td>\n    </tr>\n  </tbody>\n</table>\n</div>",
       "datasetInfos": [],
       "metadata": {},
       "removedWidgets": [],
       "textData": null,
       "type": "htmlSandbox"
      }
     },
     "output_type": "display_data"
    }
   ],
   "source": [
    "import kagglehub\n",
    "import zipfile\n",
    "import os\n",
    "import pandas as pd\n",
    "\n",
    "class Pad_clase:\n",
    "    def __init__(self):\n",
    "        pass\n",
    "\n",
    "    def download_dataset_zip(self, url=\"\"):\n",
    "        print(\"Descargando dataset desde Kaggle...\")\n",
    "        dataset_path = kagglehub.dataset_download(url)\n",
    "        print(\"Ruta al dataset:\", dataset_path)\n",
    "        return dataset_path\n",
    "\n",
    "    def extract_zip_files(self, dataset_path):\n",
    "        zip_files = [f for f in os.listdir(dataset_path) if f.endswith('.zip')]\n",
    "        if zip_files:\n",
    "            zip_file = os.path.join(dataset_path, zip_files[0])\n",
    "            extract_dir = os.path.join(dataset_path, \"extracted\")\n",
    "            os.makedirs(extract_dir, exist_ok=True)\n",
    "            print(f\"Extrayendo {zip_file} en {extract_dir}...\")\n",
    "            with zipfile.ZipFile(zip_file, \"r\") as z:\n",
    "                z.extractall(extract_dir)\n",
    "            return extract_dir\n",
    "        else:\n",
    "            csv_files = [f for f in os.listdir(dataset_path) if f.endswith('.csv')]\n",
    "            if csv_files:\n",
    "                print(\"No se encontró archivo ZIP pero se detectaron archivos CSV; se asume que el dataset ya se encuentra extraído.\")\n",
    "                return dataset_path\n",
    "            else:\n",
    "                raise FileNotFoundError(\"No se encontró ningún archivo .zip ni archivos .csv en la ruta del dataset\")\n",
    "\n",
    "    def create_csv(self, csv_dir):\n",
    "        csv_files = [f for f in os.listdir(csv_dir) if f.endswith('.csv')]\n",
    "        if not csv_files:\n",
    "            raise FileNotFoundError(\"No se encontraron archivos CSV en el directorio extraído\")\n",
    "\n",
    "        for file in csv_files:\n",
    "            file_path = os.path.join(csv_dir, file)\n",
    "            print(f\"Leyendo {file_path}...\")\n",
    "            try:\n",
    "                df = pd.read_csv(file_path, encoding=\"latin1\")\n",
    "            except Exception as e:\n",
    "                print(f\"Error al leer {file}: {e}\")\n",
    "                continue\n",
    "        print(\"CSV creado correctamente.\")\n",
    "        return df\n",
    "\n",
    "# Uso de la clase y funciones\n",
    "pad_clase = Pad_clase()\n",
    "dataset = pad_clase.download_dataset_zip(\"jaiderlopez/historical-weather-medelln\")\n",
    "csv_dir = pad_clase.extract_zip_files(dataset)\n",
    "df = pad_clase.create_csv(csv_dir)\n",
    "df.head()\n"
   ]
  },
  {
   "cell_type": "markdown",
   "metadata": {
    "application/vnd.databricks.v1+cell": {
     "cellMetadata": {},
     "inputWidgets": {},
     "nuid": "e6553e85-fff2-44fd-9df1-a293fd97dc09",
     "showTitle": false,
     "tableResultSettingsMap": {},
     "title": ""
    }
   },
   "source": [
    "## Exploración básica: Estructura y primeras estadísticas\n"
   ]
  },
  {
   "cell_type": "code",
   "execution_count": 0,
   "metadata": {
    "application/vnd.databricks.v1+cell": {
     "cellMetadata": {
      "byteLimit": 2048000,
      "rowLimit": 10000
     },
     "inputWidgets": {},
     "nuid": "a3b60c63-9d0d-407d-a9da-fe23284c14a0",
     "showTitle": false,
     "tableResultSettingsMap": {},
     "title": ""
    }
   },
   "outputs": [
    {
     "output_type": "stream",
     "name": "stdout",
     "output_type": "stream",
     "text": [
      "<class 'pandas.core.frame.DataFrame'>\nRangeIndex: 2158 entries, 0 to 2157\nData columns (total 7 columns):\n #   Column                 Non-Null Count  Dtype  \n---  ------                 --------------  -----  \n 0   Date (yyyy-mm-dd)      2158 non-null   object \n 1   Max_temperature (Â°C)  2158 non-null   int64  \n 2   Min_temperature (Â°C)  2158 non-null   int64  \n 3   Rain (mm)              2158 non-null   float64\n 4   Wind (km/h)            2158 non-null   int64  \n 5   Description            2158 non-null   object \n 6   City                   2158 non-null   object \ndtypes: float64(1), int64(3), object(3)\nmemory usage: 118.1+ KB\n"
     ]
    }
   ],
   "source": [
    "df.info()\n"
   ]
  },
  {
   "cell_type": "code",
   "execution_count": 0,
   "metadata": {
    "application/vnd.databricks.v1+cell": {
     "cellMetadata": {
      "byteLimit": 2048000,
      "rowLimit": 10000
     },
     "inputWidgets": {},
     "nuid": "7ae4a6ee-4d95-4366-a22b-65e480cb611d",
     "showTitle": false,
     "tableResultSettingsMap": {},
     "title": ""
    }
   },
   "outputs": [
    {
     "output_type": "display_data",
     "data": {
      "text/html": [
       "<div>\n",
       "<style scoped>\n",
       "    .dataframe tbody tr th:only-of-type {\n",
       "        vertical-align: middle;\n",
       "    }\n",
       "\n",
       "    .dataframe tbody tr th {\n",
       "        vertical-align: top;\n",
       "    }\n",
       "\n",
       "    .dataframe thead th {\n",
       "        text-align: right;\n",
       "    }\n",
       "</style>\n",
       "<table border=\"1\" class=\"dataframe\">\n",
       "  <thead>\n",
       "    <tr style=\"text-align: right;\">\n",
       "      <th></th>\n",
       "      <th>Max_temperature (Â°C)</th>\n",
       "      <th>Min_temperature (Â°C)</th>\n",
       "      <th>Rain (mm)</th>\n",
       "      <th>Wind (km/h)</th>\n",
       "    </tr>\n",
       "  </thead>\n",
       "  <tbody>\n",
       "    <tr>\n",
       "      <th>count</th>\n",
       "      <td>2158.000000</td>\n",
       "      <td>2158.000000</td>\n",
       "      <td>2158.000000</td>\n",
       "      <td>2158.000000</td>\n",
       "    </tr>\n",
       "    <tr>\n",
       "      <th>mean</th>\n",
       "      <td>22.478221</td>\n",
       "      <td>10.894347</td>\n",
       "      <td>13.946200</td>\n",
       "      <td>4.209917</td>\n",
       "    </tr>\n",
       "    <tr>\n",
       "      <th>std</th>\n",
       "      <td>2.841222</td>\n",
       "      <td>1.884705</td>\n",
       "      <td>13.743675</td>\n",
       "      <td>1.552946</td>\n",
       "    </tr>\n",
       "    <tr>\n",
       "      <th>min</th>\n",
       "      <td>15.000000</td>\n",
       "      <td>5.000000</td>\n",
       "      <td>0.000000</td>\n",
       "      <td>1.000000</td>\n",
       "    </tr>\n",
       "    <tr>\n",
       "      <th>25%</th>\n",
       "      <td>21.000000</td>\n",
       "      <td>10.000000</td>\n",
       "      <td>3.600000</td>\n",
       "      <td>3.000000</td>\n",
       "    </tr>\n",
       "    <tr>\n",
       "      <th>50%</th>\n",
       "      <td>22.000000</td>\n",
       "      <td>11.000000</td>\n",
       "      <td>9.300000</td>\n",
       "      <td>4.000000</td>\n",
       "    </tr>\n",
       "    <tr>\n",
       "      <th>75%</th>\n",
       "      <td>24.000000</td>\n",
       "      <td>12.000000</td>\n",
       "      <td>20.700000</td>\n",
       "      <td>5.000000</td>\n",
       "    </tr>\n",
       "    <tr>\n",
       "      <th>max</th>\n",
       "      <td>32.000000</td>\n",
       "      <td>17.000000</td>\n",
       "      <td>107.700000</td>\n",
       "      <td>11.000000</td>\n",
       "    </tr>\n",
       "  </tbody>\n",
       "</table>\n",
       "</div>"
      ]
     },
     "metadata": {
      "application/vnd.databricks.v1+output": {
       "addedWidgets": {},
       "arguments": {},
       "data": "<div>\n<style scoped>\n    .dataframe tbody tr th:only-of-type {\n        vertical-align: middle;\n    }\n\n    .dataframe tbody tr th {\n        vertical-align: top;\n    }\n\n    .dataframe thead th {\n        text-align: right;\n    }\n</style>\n<table border=\"1\" class=\"dataframe\">\n  <thead>\n    <tr style=\"text-align: right;\">\n      <th></th>\n      <th>Max_temperature (Â°C)</th>\n      <th>Min_temperature (Â°C)</th>\n      <th>Rain (mm)</th>\n      <th>Wind (km/h)</th>\n    </tr>\n  </thead>\n  <tbody>\n    <tr>\n      <th>count</th>\n      <td>2158.000000</td>\n      <td>2158.000000</td>\n      <td>2158.000000</td>\n      <td>2158.000000</td>\n    </tr>\n    <tr>\n      <th>mean</th>\n      <td>22.478221</td>\n      <td>10.894347</td>\n      <td>13.946200</td>\n      <td>4.209917</td>\n    </tr>\n    <tr>\n      <th>std</th>\n      <td>2.841222</td>\n      <td>1.884705</td>\n      <td>13.743675</td>\n      <td>1.552946</td>\n    </tr>\n    <tr>\n      <th>min</th>\n      <td>15.000000</td>\n      <td>5.000000</td>\n      <td>0.000000</td>\n      <td>1.000000</td>\n    </tr>\n    <tr>\n      <th>25%</th>\n      <td>21.000000</td>\n      <td>10.000000</td>\n      <td>3.600000</td>\n      <td>3.000000</td>\n    </tr>\n    <tr>\n      <th>50%</th>\n      <td>22.000000</td>\n      <td>11.000000</td>\n      <td>9.300000</td>\n      <td>4.000000</td>\n    </tr>\n    <tr>\n      <th>75%</th>\n      <td>24.000000</td>\n      <td>12.000000</td>\n      <td>20.700000</td>\n      <td>5.000000</td>\n    </tr>\n    <tr>\n      <th>max</th>\n      <td>32.000000</td>\n      <td>17.000000</td>\n      <td>107.700000</td>\n      <td>11.000000</td>\n    </tr>\n  </tbody>\n</table>\n</div>",
       "datasetInfos": [],
       "metadata": {},
       "removedWidgets": [],
       "textData": null,
       "type": "htmlSandbox"
      }
     },
     "output_type": "display_data"
    }
   ],
   "source": [
    "df.describe()\n"
   ]
  },
  {
   "cell_type": "code",
   "execution_count": 0,
   "metadata": {
    "application/vnd.databricks.v1+cell": {
     "cellMetadata": {
      "byteLimit": 2048000,
      "rowLimit": 10000
     },
     "inputWidgets": {},
     "nuid": "33a7bd10-f2dd-4260-a45e-cb52acc9d0d0",
     "showTitle": false,
     "tableResultSettingsMap": {},
     "title": ""
    }
   },
   "outputs": [
    {
     "output_type": "stream",
     "name": "stdout",
     "output_type": "stream",
     "text": [
      "Out[5]: Index(['Date (yyyy-mm-dd)', 'Max_temperature (Â°C)', 'Min_temperature (Â°C)',\n       'Rain (mm)', 'Wind (km/h)', 'Description', 'City'],\n      dtype='object')"
     ]
    }
   ],
   "source": [
    "df.columns\n"
   ]
  },
  {
   "cell_type": "markdown",
   "metadata": {
    "application/vnd.databricks.v1+cell": {
     "cellMetadata": {},
     "inputWidgets": {},
     "nuid": "560f2e67-5333-4b68-963e-0ad458e5c582",
     "showTitle": false,
     "tableResultSettingsMap": {},
     "title": ""
    }
   },
   "source": [
    "## Limpieza de datos: manejo de nulos y tipos de datos\n"
   ]
  },
  {
   "cell_type": "code",
   "execution_count": 0,
   "metadata": {
    "application/vnd.databricks.v1+cell": {
     "cellMetadata": {
      "byteLimit": 2048000,
      "rowLimit": 10000
     },
     "inputWidgets": {},
     "nuid": "e51083f5-cd88-4489-a6dd-5ab1167e495e",
     "showTitle": false,
     "tableResultSettingsMap": {},
     "title": ""
    }
   },
   "outputs": [
    {
     "output_type": "stream",
     "name": "stdout",
     "output_type": "stream",
     "text": [
      "Out[6]: Date (yyyy-mm-dd)        0\nMax_temperature (Â°C)    0\nMin_temperature (Â°C)    0\nRain (mm)                0\nWind (km/h)              0\nDescription              0\nCity                     0\ndtype: int64"
     ]
    }
   ],
   "source": [
    "# Verificar cantidad de valores nulos por columna\n",
    "df.isnull().sum()\n"
   ]
  },
  {
   "cell_type": "code",
   "execution_count": 0,
   "metadata": {
    "application/vnd.databricks.v1+cell": {
     "cellMetadata": {
      "byteLimit": 2048000,
      "rowLimit": 10000
     },
     "inputWidgets": {},
     "nuid": "abc13267-37b2-414d-a2e2-d3762f38cc52",
     "showTitle": false,
     "tableResultSettingsMap": {},
     "title": ""
    }
   },
   "outputs": [],
   "source": [
    "# Ejemplo: Reemplazar valores nulos en columna 'Precipitation' por el promedio\n",
    "if 'Precipitation' in df.columns:\n",
    "    mean_precip = df['Precipitation'].mean()\n",
    "    df['Precipitation'] = df['Precipitation'].fillna(mean_precip)\n",
    "\n"
   ]
  },
  {
   "cell_type": "code",
   "execution_count": 0,
   "metadata": {
    "application/vnd.databricks.v1+cell": {
     "cellMetadata": {
      "byteLimit": 2048000,
      "rowLimit": 10000
     },
     "inputWidgets": {},
     "nuid": "9596b4ee-a44c-4ba9-b19a-6a3ef0469617",
     "showTitle": false,
     "tableResultSettingsMap": {},
     "title": ""
    }
   },
   "outputs": [],
   "source": [
    "# Eliminar filas con nulos en columnas críticas\n",
    "for col in ['Temperature_Max', 'Temperature_Min']:\n",
    "    if col in df.columns:\n",
    "        df = df.dropna(subset=[col])\n"
   ]
  },
  {
   "cell_type": "markdown",
   "metadata": {
    "application/vnd.databricks.v1+cell": {
     "cellMetadata": {},
     "inputWidgets": {},
     "nuid": "ae07c34a-fee2-4cda-a3d1-b4f57e8062fc",
     "showTitle": false,
     "tableResultSettingsMap": {},
     "title": ""
    }
   },
   "source": [
    "## Conversión a Spark DataFrame para procesamiento distribuido\n"
   ]
  },
  {
   "cell_type": "code",
   "execution_count": 0,
   "metadata": {
    "application/vnd.databricks.v1+cell": {
     "cellMetadata": {
      "byteLimit": 2048000,
      "rowLimit": 10000
     },
     "inputWidgets": {},
     "nuid": "ecef8a85-a368-4eea-8f14-af145076abd1",
     "showTitle": false,
     "tableResultSettingsMap": {},
     "title": ""
    }
   },
   "outputs": [
    {
     "output_type": "stream",
     "name": "stdout",
     "output_type": "stream",
     "text": [
      "root\n |-- Date (yyyy-mm-dd): string (nullable = true)\n |-- Max_temperature (Â°C): long (nullable = true)\n |-- Min_temperature (Â°C): long (nullable = true)\n |-- Rain (mm): double (nullable = true)\n |-- Wind (km/h): long (nullable = true)\n |-- Description: string (nullable = true)\n |-- City: string (nullable = true)\n\n"
     ]
    }
   ],
   "source": [
    "from pyspark.sql import SparkSession\n",
    "\n",
    "spark = SparkSession.builder.getOrCreate()\n",
    "\n",
    "# Crear Spark DataFrame desde pandas DataFrame\n",
    "spark_df = spark.createDataFrame(df)\n",
    "spark_df.printSchema()\n"
   ]
  },
  {
   "cell_type": "markdown",
   "metadata": {
    "application/vnd.databricks.v1+cell": {
     "cellMetadata": {},
     "inputWidgets": {},
     "nuid": "f035f751-bbc5-45b3-a99f-b97701059d75",
     "showTitle": false,
     "tableResultSettingsMap": {},
     "title": ""
    }
   },
   "source": [
    "## Registro de la tabla para consultas SQL\n"
   ]
  },
  {
   "cell_type": "code",
   "execution_count": 0,
   "metadata": {
    "application/vnd.databricks.v1+cell": {
     "cellMetadata": {
      "byteLimit": 2048000,
      "rowLimit": 10000
     },
     "inputWidgets": {},
     "nuid": "35c5c35e-1ade-408d-b586-38ee0fdf671b",
     "showTitle": false,
     "tableResultSettingsMap": {},
     "title": ""
    }
   },
   "outputs": [],
   "source": [
    "spark_df.createOrReplaceTempView(\"clima_medellin\")\n"
   ]
  },
  {
   "cell_type": "code",
   "execution_count": 0,
   "metadata": {
    "application/vnd.databricks.v1+cell": {
     "cellMetadata": {
      "byteLimit": 2048000,
      "rowLimit": 10000
     },
     "inputWidgets": {},
     "nuid": "6d9768f7-defe-423c-8d1d-a2bfe60d5801",
     "showTitle": false,
     "tableResultSettingsMap": {},
     "title": ""
    }
   },
   "outputs": [
    {
     "output_type": "stream",
     "name": "stdout",
     "output_type": "stream",
     "text": [
      "+-----------------+---------------------+---------------------+---------+-----------+--------------------+---------+\n|Date (yyyy-mm-dd)|Max_temperature (Â°C)|Min_temperature (Â°C)|Rain (mm)|Wind (km/h)|         Description|     City|\n+-----------------+---------------------+---------------------+---------+-----------+--------------------+---------+\n|       2024-01-01|                   25|                   10|      1.3|          5|Lluvia moderada a...|MedellÃ­n|\n|       2023-01-01|                   18|                    8|      3.0|          3|Ligeras precipita...|MedellÃ­n|\n|       2022-01-01|                   18|                   10|      4.0|          2|Ligeras precipita...|MedellÃ­n|\n|       2021-01-01|                   21|                   11|     12.5|          4|Lluvias fuertes o...|MedellÃ­n|\n|       2020-01-01|                   18|                   11|     27.8|          3|Lluvias fuertes o...|MedellÃ­n|\n|       2019-01-01|                   25|                   10|      0.0|          9|           Despejado|MedellÃ­n|\n|       2024-01-02|                   21|                   10|      5.0|          5|Ligeras precipita...|MedellÃ­n|\n|       2023-01-02|                   18|                    8|      5.4|          4|Ligeras precipita...|MedellÃ­n|\n|       2022-01-02|                   17|                   10|      4.5|          3|Ligeras precipita...|MedellÃ­n|\n|       2021-01-02|                   22|                   12|     13.3|          2|Lluvias fuertes o...|MedellÃ­n|\n+-----------------+---------------------+---------------------+---------+-----------+--------------------+---------+\n\n"
     ]
    }
   ],
   "source": [
    "# Consulta SQL: Primeros 10 registros\n",
    "spark.sql(\"SELECT * FROM clima_medellin LIMIT 10\").show()\n"
   ]
  },
  {
   "cell_type": "markdown",
   "metadata": {
    "application/vnd.databricks.v1+cell": {
     "cellMetadata": {},
     "inputWidgets": {},
     "nuid": "2bcf3d30-cf29-4c0b-9163-069f09df26eb",
     "showTitle": false,
     "tableResultSettingsMap": {},
     "title": ""
    }
   },
   "source": [
    "## Visualización rápida: Evolución de la temperatura máxima anual\n"
   ]
  },
  {
   "cell_type": "code",
   "execution_count": 0,
   "metadata": {
    "application/vnd.databricks.v1+cell": {
     "cellMetadata": {
      "byteLimit": 2048000,
      "rowLimit": 10000
     },
     "inputWidgets": {},
     "nuid": "cfba3f80-f1b3-4d28-94af-edae123e7db4",
     "showTitle": false,
     "tableResultSettingsMap": {},
     "title": ""
    }
   },
   "outputs": [],
   "source": [
    "import matplotlib.pyplot as plt\n",
    "\n",
    "# Si la columna de fecha es 'Date', en formato YYYY-MM-DD\n",
    "if 'Date' in df.columns and 'Temperature_Max' in df.columns:\n",
    "    df['Date'] = pd.to_datetime(df['Date'])\n",
    "    df['Year'] = df['Date'].dt.year\n",
    "    df.groupby('Year')['Temperature_Max'].mean().plot(marker='o')\n",
    "    plt.title(\"Temperatura máxima promedio por año en Medellín (2019-2024)\")\n",
    "    plt.xlabel(\"Año\")\n",
    "    plt.ylabel(\"Temperatura Máxima (°C)\")\n",
    "    plt.grid()\n",
    "    plt.show()\n"
   ]
  },
  {
   "cell_type": "markdown",
   "metadata": {
    "application/vnd.databricks.v1+cell": {
     "cellMetadata": {},
     "inputWidgets": {},
     "nuid": "b7715e76-5d9d-4e8c-b385-8a2427bdb740",
     "showTitle": false,
     "tableResultSettingsMap": {},
     "title": ""
    }
   },
   "source": [
    "## Exportar dataset limpio para futuros análisis\n"
   ]
  },
  {
   "cell_type": "code",
   "execution_count": 0,
   "metadata": {
    "application/vnd.databricks.v1+cell": {
     "cellMetadata": {
      "byteLimit": 2048000,
      "rowLimit": 10000
     },
     "inputWidgets": {},
     "nuid": "a37dc4ee-8d72-4327-b9cd-5a349fdf69bb",
     "showTitle": false,
     "tableResultSettingsMap": {},
     "title": ""
    }
   },
   "outputs": [],
   "source": [
    "df.to_csv(\"clima_medellin_limpio.csv\", index=False)\n"
   ]
  },
  {
   "cell_type": "code",
   "execution_count": 0,
   "metadata": {
    "application/vnd.databricks.v1+cell": {
     "cellMetadata": {
      "byteLimit": 2048000,
      "rowLimit": 10000
     },
     "inputWidgets": {},
     "nuid": "c0123c9e-3e64-4ed3-af4f-97154c6bfa16",
     "showTitle": false,
     "tableResultSettingsMap": {},
     "title": ""
    }
   },
   "outputs": [
    {
     "output_type": "stream",
     "name": "stdout",
     "output_type": "stream",
     "text": [
      "root\n |-- Date (yyyy-mm-dd): string (nullable = true)\n |-- Max_temperature (Â°C): long (nullable = true)\n |-- Min_temperature (Â°C): long (nullable = true)\n |-- Rain (mm): double (nullable = true)\n |-- Wind (km/h): long (nullable = true)\n |-- Description: string (nullable = true)\n |-- City: string (nullable = true)\n\n"
     ]
    }
   ],
   "source": [
    "spark_df.printSchema()\n"
   ]
  },
  {
   "cell_type": "code",
   "execution_count": 0,
   "metadata": {
    "application/vnd.databricks.v1+cell": {
     "cellMetadata": {
      "byteLimit": 2048000,
      "implicitDf": true,
      "rowLimit": 10000
     },
     "inputWidgets": {},
     "nuid": "6ae0b6a9-b3b9-4531-9e45-6f62ed5f56f8",
     "showTitle": false,
     "tableResultSettingsMap": {},
     "title": ""
    }
   },
   "outputs": [
    {
     "output_type": "display_data",
     "data": {
      "text/html": [
       "<style scoped>\n",
       "  .table-result-container {\n",
       "    max-height: 300px;\n",
       "    overflow: auto;\n",
       "  }\n",
       "  table, th, td {\n",
       "    border: 1px solid black;\n",
       "    border-collapse: collapse;\n",
       "  }\n",
       "  th, td {\n",
       "    padding: 5px;\n",
       "  }\n",
       "  th {\n",
       "    text-align: left;\n",
       "  }\n",
       "</style><div class='table-result-container'><table class='table-result'><thead style='background-color: white'><tr></tr></thead><tbody></tbody></table></div>"
      ]
     },
     "metadata": {
      "application/vnd.databricks.v1+output": {
       "addedWidgets": {},
       "aggData": [],
       "aggError": "",
       "aggOverflow": false,
       "aggSchema": [],
       "aggSeriesLimitReached": false,
       "aggType": "",
       "arguments": {},
       "columnCustomDisplayInfos": {},
       "data": [],
       "datasetInfos": [],
       "dbfsResultPath": null,
       "isJsonSchema": true,
       "metadata": {},
       "overflow": false,
       "plotOptions": {
        "customPlotOptions": {},
        "displayType": "table",
        "pivotAggregation": null,
        "pivotColumns": null,
        "xColumns": null,
        "yColumns": null
       },
       "removedWidgets": [],
       "schema": [],
       "type": "table"
      }
     },
     "output_type": "display_data"
    }
   ],
   "source": [
    "%sql\n",
    "DROP TABLE IF EXISTS default.clima_medellin_historico;\n"
   ]
  },
  {
   "cell_type": "code",
   "execution_count": 0,
   "metadata": {
    "application/vnd.databricks.v1+cell": {
     "cellMetadata": {
      "byteLimit": 2048000,
      "implicitDf": true,
      "rowLimit": 10000
     },
     "inputWidgets": {},
     "nuid": "b9aac1e1-c959-444d-811e-787bfd710c7c",
     "showTitle": false,
     "tableResultSettingsMap": {},
     "title": ""
    }
   },
   "outputs": [
    {
     "output_type": "display_data",
     "data": {
      "text/html": [
       "<style scoped>\n",
       "  .table-result-container {\n",
       "    max-height: 300px;\n",
       "    overflow: auto;\n",
       "  }\n",
       "  table, th, td {\n",
       "    border: 1px solid black;\n",
       "    border-collapse: collapse;\n",
       "  }\n",
       "  th, td {\n",
       "    padding: 5px;\n",
       "  }\n",
       "  th {\n",
       "    text-align: left;\n",
       "  }\n",
       "</style><div class='table-result-container'><table class='table-result'><thead style='background-color: white'><tr></tr></thead><tbody></tbody></table></div>"
      ]
     },
     "metadata": {
      "application/vnd.databricks.v1+output": {
       "addedWidgets": {},
       "aggData": [],
       "aggError": "",
       "aggOverflow": false,
       "aggSchema": [],
       "aggSeriesLimitReached": false,
       "aggType": "",
       "arguments": {},
       "columnCustomDisplayInfos": {},
       "data": [],
       "datasetInfos": [],
       "dbfsResultPath": null,
       "isJsonSchema": true,
       "metadata": {},
       "overflow": false,
       "plotOptions": {
        "customPlotOptions": {},
        "displayType": "table",
        "pivotAggregation": null,
        "pivotColumns": null,
        "xColumns": null,
        "yColumns": null
       },
       "removedWidgets": [],
       "schema": [],
       "type": "table"
      }
     },
     "output_type": "display_data"
    }
   ],
   "source": [
    "%sql\n",
    "CREATE TABLE default.clima_medellin_historico (\n",
    "  Date STRING,\n",
    "  Temperature_Max DOUBLE,\n",
    "  Temperature_Min DOUBLE,\n",
    "  Precipitation DOUBLE,\n",
    "  Wind_Speed DOUBLE,\n",
    "  Description STRING\n",
    ")\n",
    "USING DELTA\n"
   ]
  },
  {
   "cell_type": "code",
   "execution_count": 0,
   "metadata": {
    "application/vnd.databricks.v1+cell": {
     "cellMetadata": {
      "byteLimit": 2048000,
      "rowLimit": 10000
     },
     "inputWidgets": {},
     "nuid": "1151ed8e-3e0d-43e0-ae5f-45d107cb968b",
     "showTitle": false,
     "tableResultSettingsMap": {},
     "title": ""
    }
   },
   "outputs": [],
   "source": [
    "spark_df_clean.write.mode(\"overwrite\").insertInto(\"default.clima_medellin_historico\")\n"
   ]
  },
  {
   "cell_type": "markdown",
   "metadata": {
    "application/vnd.databricks.v1+cell": {
     "cellMetadata": {},
     "inputWidgets": {},
     "nuid": "9b64bb4c-b6a9-44af-b8fa-3f03aad4cafd",
     "showTitle": false,
     "tableResultSettingsMap": {},
     "title": ""
    }
   },
   "source": [
    "## Resultados y conclusiones\n",
    "\n",
    "*Describe aquí los resultados, análisis realizados, y adjunta capturas de pantalla de cada paso importante en Databricks.*\n",
    "\n",
    "- El dataset fue descargado y procesado exitosamente desde Kaggle.\n",
    "- Los datos están disponibles en Spark y listos para análisis posteriores.\n"
   ]
  }
 ],
 "metadata": {
  "application/vnd.databricks.v1+notebook": {
   "computePreferences": null,
   "dashboards": [],
   "environmentMetadata": {
    "base_environment": "",
    "environment_version": "1"
   },
   "inputWidgetPreferences": null,
   "language": "python",
   "notebookMetadata": {
    "mostRecentlyExecutedCommandWithImplicitDF": {
     "commandId": 2675770519490658,
     "dataframes": [
      "_sqldf"
     ]
    },
    "pythonIndentUnit": 4
   },
   "notebookName": "Actividad 2, despliegue de una infraestructura",
   "widgets": {}
  }
 },
 "nbformat": 4,
 "nbformat_minor": 0
}