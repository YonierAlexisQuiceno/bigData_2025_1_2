{
  "nbformat": 4,
  "nbformat_minor": 0,
  "metadata": {
    "colab": {
      "provenance": [],
      "include_colab_link": true
    },
    "kernelspec": {
      "name": "python3",
      "display_name": "Python 3"
    },
    "language_info": {
      "name": "python"
    }
  },
  "cells": [
    {
      "cell_type": "markdown",
      "metadata": {
        "id": "view-in-github",
        "colab_type": "text"
      },
      "source": [
        "<a href=\"https://colab.research.google.com/github/YonierAlexisQuiceno/bigData_2025_1_2/blob/main/Prueba_Yahtzee_Profe.ipynb\" target=\"_parent\"><img src=\"https://colab.research.google.com/assets/colab-badge.svg\" alt=\"Open In Colab\"/></a>"
      ]
    },
    {
      "cell_type": "code",
      "source": [
        "import numpy as np\n",
        "import random"
      ],
      "metadata": {
        "id": "81hvwX0D3kYJ"
      },
      "execution_count": null,
      "outputs": []
    },
    {
      "cell_type": "code",
      "source": [
        "Lanzamientos_Jugador1=[]\n",
        "for i in range(1,6): # rango de 1 a 6(sin incluir)\n",
        "  Lanzamientos_Jugador1.append(random.randint(1,6))\n",
        "print(Lanzamientos_Jugador1)"
      ],
      "metadata": {
        "colab": {
          "base_uri": "https://localhost:8080/"
        },
        "id": "O9nQytcN5Vc8",
        "outputId": "8ee03ff2-f5b0-4a96-871c-ff15f5c5c037"
      },
      "execution_count": null,
      "outputs": [
        {
          "output_type": "stream",
          "name": "stdout",
          "text": [
            "[6, 4, 4, 6, 1]\n"
          ]
        }
      ]
    },
    {
      "cell_type": "code",
      "source": [
        "Dado1_Lanzamiento2=input(\"Ingrese X para fijar Dado1\")\n",
        "Dado2_Lanzamiento2=input(\"Ingrese X para fijar Dado2\")\n",
        "Dado3_Lanzamiento2=input(\"Ingrese X para fijar Dado3\")\n",
        "Dado4_Lanzamiento2=input(\"Ingrese X para fijar Dado4\")\n",
        "Dado5_Lanzamiento2=input(\"Ingrese X para fijar Dado5\")"
      ],
      "metadata": {
        "colab": {
          "base_uri": "https://localhost:8080/"
        },
        "id": "60DGfOjp5VZT",
        "outputId": "4bcd516a-9edb-4fed-dcd1-53795af0d762"
      },
      "execution_count": null,
      "outputs": [
        {
          "name": "stdout",
          "output_type": "stream",
          "text": [
            "Ingrese X para fijar Dado1\n",
            "Ingrese X para fijar Dado2X\n",
            "Ingrese X para fijar Dado3X\n",
            "Ingrese X para fijar Dado4\n",
            "Ingrese X para fijar Dado5\n"
          ]
        }
      ]
    },
    {
      "cell_type": "code",
      "source": [
        "if Dado1_Lanzamiento2!=\"X\":\n",
        "  Lanzamientos_Jugador1[0] = random.randint(1,6) # Use assignment instead of calling the element\n",
        "if Dado2_Lanzamiento2!=\"X\": # Use the correct variable for Dado2\n",
        "  Lanzamientos_Jugador1[1] = random.randint(1,6) # Use assignment instead of calling the element\n",
        "if Dado3_Lanzamiento2!=\"X\": # Use the correct variable for Dado3\n",
        "  Lanzamientos_Jugador1[2] = random.randint(1,6) # Use assignment instead of calling the element\n",
        "if Dado4_Lanzamiento2!=\"X\": # Use the correct variable for Dado4\n",
        "  Lanzamientos_Jugador1[3] = random.randint(1,6) # Use assignment instead of calling the element\n",
        "if Dado5_Lanzamiento2!=\"X\": # Use the correct variable for Dado5\n",
        "  Lanzamientos_Jugador1[4] = random.randint(1,6) # Use assignment instead of calling the element\n",
        "\n",
        "print(Lanzamientos_Jugador1)"
      ],
      "metadata": {
        "colab": {
          "base_uri": "https://localhost:8080/"
        },
        "id": "P6fHAYZ0_Cub",
        "outputId": "e763d9a6-7a1d-499d-ebe7-cc5e8f0fad8c"
      },
      "execution_count": null,
      "outputs": [
        {
          "output_type": "stream",
          "name": "stdout",
          "text": [
            "[2, 4, 4, 2, 2]\n"
          ]
        }
      ]
    },
    {
      "cell_type": "code",
      "source": [
        "Dado1_Lanzamiento3=input(\"Ingrese X para fijar Dado1\")\n",
        "Dado2_Lanzamiento3=input(\"Ingrese X para fijar Dado2\")\n",
        "Dado3_Lanzamiento3=input(\"Ingrese X para fijar Dado3\")\n",
        "Dado4_Lanzamiento3=input(\"Ingrese X para fijar Dado4\")\n",
        "Dado5_Lanzamiento3=input(\"Ingrese X para fijar Dado5\")"
      ],
      "metadata": {
        "colab": {
          "base_uri": "https://localhost:8080/"
        },
        "id": "eD-0KGN7BNz5",
        "outputId": "5c793152-08b4-4e64-f389-1b81312f9ba6"
      },
      "execution_count": null,
      "outputs": [
        {
          "name": "stdout",
          "output_type": "stream",
          "text": [
            "Ingrese X para fijar Dado1\n",
            "Ingrese X para fijar Dado2X\n",
            "Ingrese X para fijar Dado3\n",
            "Ingrese X para fijar Dado4\n",
            "Ingrese X para fijar Dado5X\n"
          ]
        }
      ]
    },
    {
      "cell_type": "code",
      "source": [
        "if Dado1_Lanzamiento3!=\"X\":\n",
        "  Lanzamientos_Jugador1[0] = random.randint(1,6) # Use assignment instead of calling the element\n",
        "if Dado2_Lanzamiento3!=\"X\": # Use the correct variable for Dado2\n",
        "  Lanzamientos_Jugador1[1] = random.randint(1,6) # Use assignment instead of calling the element\n",
        "if Dado3_Lanzamiento3!=\"X\": # Use the correct variable for Dado3\n",
        "  Lanzamientos_Jugador1[2] = random.randint(1,6) # Use assignment instead of calling the element\n",
        "if Dado4_Lanzamiento3!=\"X\": # Use the correct variable for Dado4\n",
        "  Lanzamientos_Jugador1[3] = random.randint(1,6) # Use assignment instead of calling the element\n",
        "if Dado5_Lanzamiento3!=\"X\": # Use the correct variable for Dado5\n",
        "  Lanzamientos_Jugador1[4] = random.randint(1,6) # Use assignment instead of calling the element\n",
        "\n",
        "print(Lanzamientos_Jugador1)"
      ],
      "metadata": {
        "colab": {
          "base_uri": "https://localhost:8080/"
        },
        "id": "PSOZh7OsD56x",
        "outputId": "e805dac0-0578-4cde-8a4a-a5716dfa9bb3"
      },
      "execution_count": null,
      "outputs": [
        {
          "output_type": "stream",
          "name": "stdout",
          "text": [
            "[2, 4, 4, 5, 4]\n"
          ]
        }
      ]
    },
    {
      "cell_type": "code",
      "source": [
        "unos=0\n",
        "dos=0\n",
        "tres=0\n",
        "cuatro=0\n",
        "cinco=0\n",
        "seis=0\n",
        "for i in range(0,5):\n",
        "  if Lanzamientos_Jugador1[i]==1:\n",
        "    unos=unos+1\n",
        "  elif Lanzamientos_Jugador1[i]==2:\n",
        "    dos=dos+1\n",
        "  elif Lanzamientos_Jugador1[i]==3:\n",
        "    tres=tres+1\n",
        "  elif Lanzamientos_Jugador1[i]==4:\n",
        "    cuatro=cuatro+1\n",
        "  elif Lanzamientos_Jugador1[i]==5:\n",
        "    cinco=cinco+1\n",
        "  elif Lanzamientos_Jugador1[i]==6:\n",
        "    seis=seis+1"
      ],
      "metadata": {
        "id": "e5tgTHsDEyfn"
      },
      "execution_count": null,
      "outputs": []
    },
    {
      "cell_type": "code",
      "source": [
        "print(\"Hay\", unos, \"unos\")\n",
        "print(\"Hay\", dos, \"dos\")\n",
        "print(\"Hay\", tres, \"tres\")\n",
        "print(\"Hay\", cuatro, \"cuatro\")\n",
        "print(\"Hay\", cinco, \"cinco\")\n",
        "print(\"Hay\", seis, \"seis\")"
      ],
      "metadata": {
        "colab": {
          "base_uri": "https://localhost:8080/"
        },
        "id": "Sd8eBT1cFEE2",
        "outputId": "9d6670c0-e017-42e1-d0c2-3a6625fc1cb8"
      },
      "execution_count": null,
      "outputs": [
        {
          "output_type": "stream",
          "name": "stdout",
          "text": [
            "Hay 0 unos\n",
            "Hay 1 dos\n",
            "Hay 0 tres\n",
            "Hay 3 cuatro\n",
            "Hay 1 cinco\n",
            "Hay 0 seis\n"
          ]
        }
      ]
    },
    {
      "cell_type": "code",
      "source": [],
      "metadata": {
        "id": "pa06CFPyMFj2"
      },
      "execution_count": null,
      "outputs": []
    },
    {
      "cell_type": "code",
      "source": [
        "REGLAS\n",
        "\n",
        "PAR\n",
        "\n",
        "TERNA\n",
        "\n",
        "CUARTA\n",
        "\n",
        "FULLHOUSE\n",
        "\n",
        "ESCALERACORTA\n",
        "\n",
        "ESCALERALARGA\n",
        "\n",
        "YAHTZEE\n",
        "\n"
      ],
      "metadata": {
        "id": "KEn9XO47EbCj"
      },
      "execution_count": null,
      "outputs": []
    },
    {
      "cell_type": "code",
      "source": [
        "# Importamos las bibliotecas necesarias\n",
        "import random\n",
        "from IPython.display import display, HTML\n",
        "\n",
        "# Función para simular el lanzamiento de un dado\n",
        "def lanzar_dado():\n",
        "    return random.randint(1, 6)\n",
        "\n",
        "# Generamos el código HTML y JavaScript para la interfaz gráfica\n",
        "html_code = \"\"\"\n",
        "<!DOCTYPE html>\n",
        "<html>\n",
        "<head>\n",
        "    <style>\n",
        "        body {\n",
        "            font-family: Arial, sans-serif;\n",
        "            text-align: center;\n",
        "            margin-top: 40px;\n",
        "        }\n",
        "        #dado {\n",
        "            font-size: 100px;\n",
        "            color: #4CAF50;\n",
        "            margin: 20px;\n",
        "        }\n",
        "        button {\n",
        "            font-size: 20px;\n",
        "            padding: 10px 20px;\n",
        "            background-color: #4CAF50;\n",
        "            color: white;\n",
        "            border: none;\n",
        "            border-radius: 5px;\n",
        "            cursor: pointer;\n",
        "        }\n",
        "        button:hover {\n",
        "            background-color: #45a049;\n",
        "        }\n",
        "    </style>\n",
        "</head>\n",
        "<body>\n",
        "    <h1>Simulador de Lanzamiento de Dado</h1>\n",
        "    <div id=\"dado\">🎲</div>\n",
        "    <button onclick=\"lanzarDado()\">Lanzar Dado</button>\n",
        "\n",
        "    <script>\n",
        "        function lanzarDado() {\n",
        "            // Llamamos a la función de Python para obtener un número aleatorio\n",
        "            google.colab.kernel.invokeFunction('lanzar_dado', [], {})\n",
        "            .then(result => {\n",
        "                const numero = result.data['text/plain'];\n",
        "                const dadoDiv = document.getElementById('dado');\n",
        "                // Mostramos el número como un emoji de dado\n",
        "                const emojis = ['🎲', '⚀', '⚁', '⚂', '⚃', '⚄', '⚅'];\n",
        "                dadoDiv.innerHTML = emojis[parseInt(numero)];\n",
        "            });\n",
        "        }\n",
        "    </script>\n",
        "</body>\n",
        "</html>\n",
        "\"\"\"\n",
        "\n",
        "# Mostramos la interfaz gráfica en Google Colab\n",
        "display(HTML(html_code))\n",
        "\n",
        "# Registramos la función de Python para que pueda ser llamada desde JavaScript\n",
        "from google.colab import output\n",
        "\n",
        "# Definimos la función de callback\n",
        "def lanzar_dado_callback():\n",
        "    return lanzar_dado()\n",
        "\n",
        "# Registramos la función explícitamente\n",
        "output.register_callback('lanzar_dado', lanzar_dado_callback)"
      ],
      "metadata": {
        "colab": {
          "base_uri": "https://localhost:8080/",
          "height": 277
        },
        "id": "6nubPt5YIJkJ",
        "outputId": "c9c89173-6bbc-43cd-abc9-cb09b912de4c"
      },
      "execution_count": null,
      "outputs": [
        {
          "output_type": "display_data",
          "data": {
            "text/plain": [
              "<IPython.core.display.HTML object>"
            ],
            "text/html": [
              "\n",
              "<!DOCTYPE html>\n",
              "<html>\n",
              "<head>\n",
              "    <style>\n",
              "        body {\n",
              "            font-family: Arial, sans-serif;\n",
              "            text-align: center;\n",
              "            margin-top: 40px;\n",
              "        }\n",
              "        #dado {\n",
              "            font-size: 100px;\n",
              "            color: #4CAF50;\n",
              "            margin: 20px;\n",
              "        }\n",
              "        button {\n",
              "            font-size: 20px;\n",
              "            padding: 10px 20px;\n",
              "            background-color: #4CAF50;\n",
              "            color: white;\n",
              "            border: none;\n",
              "            border-radius: 5px;\n",
              "            cursor: pointer;\n",
              "        }\n",
              "        button:hover {\n",
              "            background-color: #45a049;\n",
              "        }\n",
              "    </style>\n",
              "</head>\n",
              "<body>\n",
              "    <h1>Simulador de Lanzamiento de Dado</h1>\n",
              "    <div id=\"dado\">🎲</div>\n",
              "    <button onclick=\"lanzarDado()\">Lanzar Dado</button>\n",
              "\n",
              "    <script>\n",
              "        function lanzarDado() {\n",
              "            // Llamamos a la función de Python para obtener un número aleatorio\n",
              "            google.colab.kernel.invokeFunction('lanzar_dado', [], {})\n",
              "            .then(result => {\n",
              "                const numero = result.data['text/plain'];\n",
              "                const dadoDiv = document.getElementById('dado');\n",
              "                // Mostramos el número como un emoji de dado\n",
              "                const emojis = ['🎲', '⚀', '⚁', '⚂', '⚃', '⚄', '⚅'];\n",
              "                dadoDiv.innerHTML = emojis[parseInt(numero)];\n",
              "            });\n",
              "        }\n",
              "    </script>\n",
              "</body>\n",
              "</html>\n"
            ]
          },
          "metadata": {}
        }
      ]
    },
    {
      "cell_type": "code",
      "source": [],
      "metadata": {
        "id": "2WJKKQRURMDR"
      },
      "execution_count": null,
      "outputs": []
    }
  ]
}